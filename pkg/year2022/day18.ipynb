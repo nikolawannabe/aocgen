{
 "cells": [
  {
   "attachments": {},
   "cell_type": "markdown",
   "metadata": {},
   "source": [
    "# Day 18 \n",
    "\n",
    "## Part 1\n",
    "\n",
    "Figure out if a naive map implementation might work.\n",
    "\n",
    "Take a look at the data and see how many lines are present."
   ]
  },
  {
   "cell_type": "code",
   "execution_count": 37,
   "metadata": {},
   "outputs": [
    {
     "name": "stdout",
     "output_type": "stream",
     "text": [
      "2023\n"
     ]
    }
   ],
   "source": [
    "lines = open(\"inputs/18.txt\").readlines()\n",
    "print(len(lines))"
   ]
  },
  {
   "attachments": {},
   "cell_type": "markdown",
   "metadata": {},
   "source": [
    "Find the max and min values"
   ]
  },
  {
   "cell_type": "code",
   "execution_count": 38,
   "metadata": {},
   "outputs": [
    {
     "name": "stdout",
     "output_type": "stream",
     "text": [
      "max: 19, min 0\n"
     ]
    }
   ],
   "source": [
    "max = 0\n",
    "min = 100000\n",
    "for line in lines:\n",
    "    x,y,z = map(int, line.split(\",\"))\n",
    "    for coord in [x, y, z]:\n",
    "        if coord > max:\n",
    "            max = coord\n",
    "        if coord < min:\n",
    "            min = coord\n",
    "\n",
    "print(f'max: {max}, min {min}')"
   ]
  },
  {
   "attachments": {},
   "cell_type": "markdown",
   "metadata": {},
   "source": [
    "Looks like the dataset may be small enough for a naive approach to work.  If we assume the grid is `19*19*19` then we have a 3 dimensional grid of `6859` cubes, each with 6 sides, for a map with `41154` keys.  That should not be a problem."
   ]
  },
  {
   "attachments": {},
   "cell_type": "markdown",
   "metadata": {},
   "source": [
    "Each cube has 6 faces, represented by permutations of x,y,z"
   ]
  },
  {
   "attachments": {},
   "cell_type": "markdown",
   "metadata": {},
   "source": [
    "- `[x-1,x],[y-1,y],[z=z-1]` = bottom\n",
    "- `[x-1,x],[y=y-1],[z-1,z]` = front\n",
    "- `[x=x-1],[y-1,y],[z-1,z]` = right\n",
    "- `[x-1,x],[y-1,y],[z=z]` = top\n",
    "- `[x-1,x],[y=y],[z-1,z]` = behind\n",
    "- `[x=x],[y-1,y],[z-1,z]` = left"
   ]
  },
  {
   "attachments": {},
   "cell_type": "markdown",
   "metadata": {},
   "source": [
    "A face is touching another cube's face if all parts of that set of coordinate intervals match.  Any non-matching set of intervals is considered surface area per the problem description. "
   ]
  },
  {
   "attachments": {},
   "cell_type": "markdown",
   "metadata": {},
   "source": [
    "## Part 2\n",
    "\n",
    "A surface is exterior to the droplet if there are no other cubes in front of the cube in the direction the face is pointed. "
   ]
  },
  {
   "attachments": {},
   "cell_type": "markdown",
   "metadata": {},
   "source": [
    "In this problem we only care about the cube positions themselves, and not so much about the faces of the cubes."
   ]
  },
  {
   "attachments": {},
   "cell_type": "markdown",
   "metadata": {},
   "source": [
    "To determine that there are no other cubes in a direction, we need to find the max value for each coordinate while holding the other two coordinates constant. So for example, if you imagine we are looking up along the z axis, hold y constant (you are on the y axis at \"0\") an then range across x for the list of faces with the specified y and the positive z, you can find the largest z for each x at that y which will tell you what the \"top\" surface of this blocky shape is across the x values that y.  Then you'd need to repeat that process for each of the y to the the top blocks along the entire x-y plane.\n",
    "\n",
    "Looking \"down\" along the z axis would be finding the minimum z in the x-y plane.\n",
    "\n",
    "You can repeat this process for each of the other 4 planes by looking left or right or forward or backward along the x and y axes.  Gather the blocks as you're finding them into a map, and when complete, the length of the map will tell you the total surface area as specified by the problem description."
   ]
  },
  {
   "attachments": {},
   "cell_type": "markdown",
   "metadata": {},
   "source": [
    "Gather all the relevant coordinates for each x, y, z dimensions into sorted arrays, and then range over them generating block indices within the planes specified and testing against the actual block indices."
   ]
  }
 ],
 "metadata": {
  "kernelspec": {
   "display_name": "Python 3",
   "language": "python",
   "name": "python3"
  },
  "language_info": {
   "codemirror_mode": {
    "name": "ipython",
    "version": 3
   },
   "file_extension": ".py",
   "mimetype": "text/x-python",
   "name": "python",
   "nbconvert_exporter": "python",
   "pygments_lexer": "ipython3",
   "version": "3.10.6"
  },
  "orig_nbformat": 4,
  "vscode": {
   "interpreter": {
    "hash": "e7370f93d1d0cde622a1f8e1c04877d8463912d04d973331ad4851f04de6915a"
   }
  }
 },
 "nbformat": 4,
 "nbformat_minor": 2
}
